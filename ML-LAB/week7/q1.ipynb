{
 "cells": [
  {
   "cell_type": "code",
   "execution_count": 7,
   "id": "42449bf5",
   "metadata": {},
   "outputs": [],
   "source": [
    "import numpy as np\n",
    "import pandas as pd"
   ]
  },
  {
   "cell_type": "code",
   "execution_count": 8,
   "id": "1e6a9d21",
   "metadata": {},
   "outputs": [
    {
     "data": {
      "text/plain": [
       "0.6923076923076923"
      ]
     },
     "execution_count": 8,
     "metadata": {},
     "output_type": "execute_result"
    }
   ],
   "source": [
    "hostel = 0.60\n",
    "day_sc = 0.40\n",
    "A_hostel = 0.30\n",
    "A_day = 0.20\n",
    "\n",
    "\n",
    "A = (A_hostel * hostel) + (A_day * day_sc)\n",
    "\n",
    "host_A = (A_hostel * hostel) / A\n",
    "\n",
    "host_A"
   ]
  },
  {
   "cell_type": "code",
   "execution_count": 9,
   "id": "a3862527",
   "metadata": {},
   "outputs": [
    {
     "data": {
      "text/plain": [
       "0.3333333333333333"
      ]
     },
     "execution_count": 9,
     "metadata": {},
     "output_type": "execute_result"
    }
   ],
   "source": [
    "dis = 0.01\n",
    "sens = 0.99\n",
    "FPR = 0.02\n",
    "no_dis = 1 - dis\n",
    "pt = (sens * dis) + (FPR * no_dis)\n",
    "d_pt = (sens * dis) / pt\n",
    "d_pt"
   ]
  },
  {
   "cell_type": "code",
   "execution_count": null,
   "id": "4f0f004f",
   "metadata": {},
   "outputs": [],
   "source": []
  }
 ],
 "metadata": {
  "kernelspec": {
   "display_name": "Python 3 (ipykernel)",
   "language": "python",
   "name": "python3"
  },
  "language_info": {
   "codemirror_mode": {
    "name": "ipython",
    "version": 3
   },
   "file_extension": ".py",
   "mimetype": "text/x-python",
   "name": "python",
   "nbconvert_exporter": "python",
   "pygments_lexer": "ipython3",
   "version": "3.12.3"
  }
 },
 "nbformat": 4,
 "nbformat_minor": 5
}
