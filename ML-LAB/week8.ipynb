{
 "cells": [
  {
   "cell_type": "markdown",
   "id": "1c63912b",
   "metadata": {},
   "source": [
    "Q1-A"
   ]
  },
  {
   "cell_type": "code",
   "execution_count": 2,
   "id": "95f1502f",
   "metadata": {},
   "outputs": [],
   "source": [
    "import numpy as np\n",
    "import pandas as pd"
   ]
  },
  {
   "cell_type": "code",
   "execution_count": 3,
   "id": "2531f326",
   "metadata": {},
   "outputs": [],
   "source": [
    "df = pd.DataFrame({'fruitId': [1,2,3,4,5,6], 'weight':[180, 200,150,170,160,140], 'sweetness':[7,6,4,5,6,3], 'label':['Apple', 'Apple', 'Orange', 'Orange', 'Apple', 'Orange']})"
   ]
  },
  {
   "cell_type": "code",
   "execution_count": 4,
   "id": "26ef458c",
   "metadata": {},
   "outputs": [
    {
     "data": {
      "text/html": [
       "<div>\n",
       "<style scoped>\n",
       "    .dataframe tbody tr th:only-of-type {\n",
       "        vertical-align: middle;\n",
       "    }\n",
       "\n",
       "    .dataframe tbody tr th {\n",
       "        vertical-align: top;\n",
       "    }\n",
       "\n",
       "    .dataframe thead th {\n",
       "        text-align: right;\n",
       "    }\n",
       "</style>\n",
       "<table border=\"1\" class=\"dataframe\">\n",
       "  <thead>\n",
       "    <tr style=\"text-align: right;\">\n",
       "      <th></th>\n",
       "      <th>fruitId</th>\n",
       "      <th>weight</th>\n",
       "      <th>sweetness</th>\n",
       "      <th>label</th>\n",
       "    </tr>\n",
       "  </thead>\n",
       "  <tbody>\n",
       "    <tr>\n",
       "      <th>0</th>\n",
       "      <td>1</td>\n",
       "      <td>180</td>\n",
       "      <td>7</td>\n",
       "      <td>Apple</td>\n",
       "    </tr>\n",
       "    <tr>\n",
       "      <th>1</th>\n",
       "      <td>2</td>\n",
       "      <td>200</td>\n",
       "      <td>6</td>\n",
       "      <td>Apple</td>\n",
       "    </tr>\n",
       "    <tr>\n",
       "      <th>2</th>\n",
       "      <td>3</td>\n",
       "      <td>150</td>\n",
       "      <td>4</td>\n",
       "      <td>Orange</td>\n",
       "    </tr>\n",
       "    <tr>\n",
       "      <th>3</th>\n",
       "      <td>4</td>\n",
       "      <td>170</td>\n",
       "      <td>5</td>\n",
       "      <td>Orange</td>\n",
       "    </tr>\n",
       "    <tr>\n",
       "      <th>4</th>\n",
       "      <td>5</td>\n",
       "      <td>160</td>\n",
       "      <td>6</td>\n",
       "      <td>Apple</td>\n",
       "    </tr>\n",
       "    <tr>\n",
       "      <th>5</th>\n",
       "      <td>6</td>\n",
       "      <td>140</td>\n",
       "      <td>3</td>\n",
       "      <td>Orange</td>\n",
       "    </tr>\n",
       "  </tbody>\n",
       "</table>\n",
       "</div>"
      ],
      "text/plain": [
       "   fruitId  weight  sweetness   label\n",
       "0        1     180          7   Apple\n",
       "1        2     200          6   Apple\n",
       "2        3     150          4  Orange\n",
       "3        4     170          5  Orange\n",
       "4        5     160          6   Apple\n",
       "5        6     140          3  Orange"
      ]
     },
     "execution_count": 4,
     "metadata": {},
     "output_type": "execute_result"
    }
   ],
   "source": [
    "df"
   ]
  },
  {
   "cell_type": "code",
   "execution_count": 5,
   "id": "c2cbf040",
   "metadata": {},
   "outputs": [],
   "source": [
    "def euclidean(pt1, pt2):\n",
    "    return ((pt1[0] - pt2[0])**2 + (pt1[1] - pt2[1])**2)**.5"
   ]
  },
  {
   "cell_type": "code",
   "execution_count": 6,
   "id": "e587340b",
   "metadata": {},
   "outputs": [],
   "source": [
    "def manhattan(pt1, pt2):\n",
    "    return abs(pt1[0]-pt2[0]) + (pt1[1] - pt2[1])"
   ]
  },
  {
   "cell_type": "code",
   "execution_count": 7,
   "id": "a537f17f",
   "metadata": {},
   "outputs": [],
   "source": [
    "def minkowski(pt1, pt2, p):\n",
    "    return (abs(pt1[0] - pt2[0])**p + abs(pt1[1] - pt2[1])**p)**(1/p)"
   ]
  },
  {
   "cell_type": "code",
   "execution_count": 8,
   "id": "15166ddb",
   "metadata": {},
   "outputs": [],
   "source": [
    "df['euc_dist'] = euclidean((165, 5.5), (df['weight'], df['sweetness']))"
   ]
  },
  {
   "cell_type": "code",
   "execution_count": 9,
   "id": "6a06f217",
   "metadata": {},
   "outputs": [],
   "source": [
    "df['mink_dist'] = minkowski((165, 5.5), (df['weight'], df['sweetness']), 4)"
   ]
  },
  {
   "cell_type": "code",
   "execution_count": 10,
   "id": "e92f958d",
   "metadata": {},
   "outputs": [],
   "source": [
    "df['manh_dist'] = manhattan((165, 5.5), (df['weight'], df['sweetness']))"
   ]
  },
  {
   "cell_type": "code",
   "execution_count": 11,
   "id": "6656e5bd",
   "metadata": {},
   "outputs": [
    {
     "data": {
      "text/html": [
       "<div>\n",
       "<style scoped>\n",
       "    .dataframe tbody tr th:only-of-type {\n",
       "        vertical-align: middle;\n",
       "    }\n",
       "\n",
       "    .dataframe tbody tr th {\n",
       "        vertical-align: top;\n",
       "    }\n",
       "\n",
       "    .dataframe thead th {\n",
       "        text-align: right;\n",
       "    }\n",
       "</style>\n",
       "<table border=\"1\" class=\"dataframe\">\n",
       "  <thead>\n",
       "    <tr style=\"text-align: right;\">\n",
       "      <th></th>\n",
       "      <th>fruitId</th>\n",
       "      <th>weight</th>\n",
       "      <th>sweetness</th>\n",
       "      <th>label</th>\n",
       "      <th>euc_dist</th>\n",
       "      <th>mink_dist</th>\n",
       "      <th>manh_dist</th>\n",
       "    </tr>\n",
       "  </thead>\n",
       "  <tbody>\n",
       "    <tr>\n",
       "      <th>0</th>\n",
       "      <td>1</td>\n",
       "      <td>180</td>\n",
       "      <td>7</td>\n",
       "      <td>Apple</td>\n",
       "      <td>15.074813</td>\n",
       "      <td>15.000375</td>\n",
       "      <td>13.5</td>\n",
       "    </tr>\n",
       "    <tr>\n",
       "      <th>1</th>\n",
       "      <td>2</td>\n",
       "      <td>200</td>\n",
       "      <td>6</td>\n",
       "      <td>Apple</td>\n",
       "      <td>35.003571</td>\n",
       "      <td>35.000000</td>\n",
       "      <td>34.5</td>\n",
       "    </tr>\n",
       "    <tr>\n",
       "      <th>2</th>\n",
       "      <td>3</td>\n",
       "      <td>150</td>\n",
       "      <td>4</td>\n",
       "      <td>Orange</td>\n",
       "      <td>15.074813</td>\n",
       "      <td>15.000375</td>\n",
       "      <td>16.5</td>\n",
       "    </tr>\n",
       "    <tr>\n",
       "      <th>3</th>\n",
       "      <td>4</td>\n",
       "      <td>170</td>\n",
       "      <td>5</td>\n",
       "      <td>Orange</td>\n",
       "      <td>5.024938</td>\n",
       "      <td>5.000125</td>\n",
       "      <td>5.5</td>\n",
       "    </tr>\n",
       "    <tr>\n",
       "      <th>4</th>\n",
       "      <td>5</td>\n",
       "      <td>160</td>\n",
       "      <td>6</td>\n",
       "      <td>Apple</td>\n",
       "      <td>5.024938</td>\n",
       "      <td>5.000125</td>\n",
       "      <td>4.5</td>\n",
       "    </tr>\n",
       "    <tr>\n",
       "      <th>5</th>\n",
       "      <td>6</td>\n",
       "      <td>140</td>\n",
       "      <td>3</td>\n",
       "      <td>Orange</td>\n",
       "      <td>25.124689</td>\n",
       "      <td>25.000625</td>\n",
       "      <td>27.5</td>\n",
       "    </tr>\n",
       "  </tbody>\n",
       "</table>\n",
       "</div>"
      ],
      "text/plain": [
       "   fruitId  weight  sweetness   label   euc_dist  mink_dist  manh_dist\n",
       "0        1     180          7   Apple  15.074813  15.000375       13.5\n",
       "1        2     200          6   Apple  35.003571  35.000000       34.5\n",
       "2        3     150          4  Orange  15.074813  15.000375       16.5\n",
       "3        4     170          5  Orange   5.024938   5.000125        5.5\n",
       "4        5     160          6   Apple   5.024938   5.000125        4.5\n",
       "5        6     140          3  Orange  25.124689  25.000625       27.5"
      ]
     },
     "execution_count": 11,
     "metadata": {},
     "output_type": "execute_result"
    }
   ],
   "source": [
    "df"
   ]
  },
  {
   "cell_type": "code",
   "execution_count": 12,
   "id": "f07555ff",
   "metadata": {},
   "outputs": [],
   "source": [
    "def prediction(k):\n",
    "    df1 = df.sort_values('euc_dist')\n",
    "    output = df1.head(k)['label'].mode()\n",
    "    return output"
   ]
  },
  {
   "cell_type": "code",
   "execution_count": 13,
   "id": "7341fde6",
   "metadata": {},
   "outputs": [
    {
     "data": {
      "text/plain": [
       "0    Apple\n",
       "Name: label, dtype: object"
      ]
     },
     "execution_count": 13,
     "metadata": {},
     "output_type": "execute_result"
    }
   ],
   "source": [
    "prediction(3)"
   ]
  },
  {
   "cell_type": "code",
   "execution_count": 14,
   "id": "d60119a1",
   "metadata": {},
   "outputs": [
    {
     "data": {
      "text/plain": [
       "0    Orange\n",
       "Name: label, dtype: object"
      ]
     },
     "execution_count": 14,
     "metadata": {},
     "output_type": "execute_result"
    }
   ],
   "source": [
    "prediction(1)"
   ]
  },
  {
   "cell_type": "code",
   "execution_count": 15,
   "id": "afd505c0",
   "metadata": {},
   "outputs": [
    {
     "data": {
      "text/plain": [
       "0    Orange\n",
       "Name: label, dtype: object"
      ]
     },
     "execution_count": 15,
     "metadata": {},
     "output_type": "execute_result"
    }
   ],
   "source": [
    "prediction(5)"
   ]
  },
  {
   "cell_type": "code",
   "execution_count": 16,
   "id": "30e0882b",
   "metadata": {},
   "outputs": [],
   "source": [
    "import matplotlib.pyplot as plt"
   ]
  },
  {
   "cell_type": "code",
   "execution_count": 17,
   "id": "1dbeeb6f",
   "metadata": {
    "scrolled": true
   },
   "outputs": [
    {
     "data": {
      "text/plain": [
       "<matplotlib.collections.PathCollection at 0x76d768dbee40>"
      ]
     },
     "execution_count": 17,
     "metadata": {},
     "output_type": "execute_result"
    },
    {
     "data": {
      "image/png": "[encoded data removed]",
      "text/plain": [
       "<Figure size 640x480 with 1 Axes>"
      ]
     },
     "metadata": {},
     "output_type": "display_data"
    }
   ],
   "source": [
    "for index, i in df.iterrows():    \n",
    "    if i['label'] == 'Apple':\n",
    "        plt.scatter(i['weight'], i['sweetness'], color='red')\n",
    "    else:\n",
    "        plt.scatter(i['weight'], i['sweetness'], color='orange')\n",
    "        \n",
    "plt.scatter(165, 5.5, color='green', s=100)"
   ]
  },
  {
   "cell_type": "code",
   "execution_count": 18,
   "id": "874d9007",
   "metadata": {},
   "outputs": [
    {
     "data": {
      "image/png": "[encoded data removed]",
      "text/plain": [
       "<Figure size 640x480 with 1 Axes>"
      ]
     },
     "metadata": {},
     "output_type": "display_data"
    }
   ],
   "source": [
    "# Sample data\n",
    "fruits = np.array([\n",
    "    [18, 7, 'Apple'],\n",
    "    [20, 6, 'Apple'],\n",
    "    [15, 4, 'Orange'],\n",
    "    [17, 5, 'Orange'],\n",
    "    [16, 6, 'Apple'],\n",
    "    [14, 3, 'Orange']\n",
    "])\n",
    "\n",
    "# Separate the fruits by class\n",
    "apples = fruits[fruits[:, 2] == 'Apple'][:, :2].astype(float)\n",
    "oranges = fruits[fruits[:, 2] == 'Orange'][:, :2].astype(float)\n",
    "\n",
    "# Find the closest pairs\n",
    "distances = []\n",
    "for apple in apples:\n",
    "    for orange in oranges:\n",
    "        distance = np.linalg.norm(apple - orange)\n",
    "        distances.append((distance, apple, orange))\n",
    "\n",
    "# Sort by distance and take the two closest pairs\n",
    "distances.sort(key=lambda x: x[0])\n",
    "closest_pairs = distances[:2]\n",
    "\n",
    "# Function to calculate the perpendicular bisector\n",
    "def perpendicular_bisector(point1, point2):\n",
    "    midpoint = (point1 + point2) / 2\n",
    "    slope = (point2[1] - point1[1]) / (point2[0] - point1[0]) if point2[0] != point1[0] else float('inf')\n",
    "    perpendicular_slope = -1 / slope if slope != 0 else float('inf')\n",
    "    return midpoint, perpendicular_slope\n",
    "\n",
    "# Get the bisectors for the two closest pairs\n",
    "bisectors = []\n",
    "for _, apple, orange in closest_pairs:\n",
    "    midpoint, perp_slope = perpendicular_bisector(apple, orange)\n",
    "    bisectors.append((midpoint, perp_slope))\n",
    "\n",
    "# Calculate the intersection of the two bisectors\n",
    "midpoint1, slope1 = bisectors[0]\n",
    "midpoint2, slope2 = bisectors[1]\n",
    "slope1-=0.3\n",
    "# Line equations for the bisectors\n",
    "def line_eq(x, midpoint, slope):\n",
    "    return slope * (x - midpoint[0]) + midpoint[1]\n",
    "\n",
    "# Set up x values for the lines\n",
    "x_values1 = np.linspace(13, 22, 10)\n",
    "# x_values2 = np.linspace(17.2, 22, 10)\n",
    "\n",
    "# Calculate y values for the two bisectors\n",
    "y_values1 = line_eq(x_values1, midpoint1, slope1)\n",
    "# y_values2 = line_eq(x_values2, midpoint2, slope2)\n",
    "\n",
    "# Find intersection point\n",
    "# A = np.array([[1, -slope1], [1, -slope2]])\n",
    "# B = np.array([midpoint1[1] + slope1 * midpoint1[0], midpoint2[1] + slope2 * midpoint2[0]])\n",
    "# intersection = np.linalg.solve(A, B)\n",
    "# # Plotting\n",
    "# plt.figure(figsize=(8, 8))\n",
    "\n",
    "# Scatter plot of the fruits\n",
    "plt.scatter(apples[:, 0], apples[:, 1], color='red', label='Apple')\n",
    "plt.scatter(oranges[:, 0], oranges[:, 1], color='orange', label='Orange')\n",
    "\n",
    "# Plot the decision boundaries (perpendicular bisectors)\n",
    "plt.plot(x_values1, y_values1, color='blue', linestyle='--', label='Bisector 1')\n",
    "# plt.plot(x_values2, y_values2, color='green', linestyle='--', label='Bisector 2')\n",
    "\n",
    "# Plot the intersection point\n",
    "# plt.scatter(intersection[0], intersection[1], color='purple', s=100, label='Intersection Point')\n",
    "\n",
    "plt.title('Decision Boundary as Intersection of Two Perpendicular Bisectors')\n",
    "plt.xlabel('Weight (grams)')\n",
    "plt.ylabel('Sweetness Level')\n",
    "plt.legend()\n",
    "plt.xlim(13, 22)\n",
    "plt.ylim(2, 8)\n",
    "plt.grid()\n",
    "plt.show()"
   ]
  },
  {
   "cell_type": "markdown",
   "id": "f5def3da",
   "metadata": {},
   "source": [
    "Q1-B"
   ]
  },
  {
   "cell_type": "code",
   "execution_count": 19,
   "id": "fa727ed0",
   "metadata": {},
   "outputs": [
    {
     "name": "stdout",
     "output_type": "stream",
     "text": [
      "Predicted label for the new fruit: Orange\n",
      "Euclidean distances: [15.07481343 35.00357125 15.07481343  5.02493781  5.02493781 25.12468905]\n",
      "Manhattan distances: [16.5 35.5 16.5  5.5  5.5 27.5]\n",
      "Minkowski (p=3) distances: [15.00499833 35.00003401 15.00499833  5.00166611  5.00166611 25.00833056]\n"
     ]
    }
   ],
   "source": [
    "import numpy as np\n",
    "import matplotlib.pyplot as plt\n",
    "from sklearn.neighbors import KNeighborsClassifier\n",
    "from sklearn.metrics import pairwise_distances\n",
    "\n",
    "X = np.array([[180, 7],\n",
    "              [200, 6],\n",
    "              [150, 4],\n",
    "              [170, 5],\n",
    "              [160, 6],\n",
    "              [140, 3]])\n",
    "y = np.array(['Apple', 'Apple', 'Orange', 'Orange', 'Apple', 'Orange'])\n",
    "\n",
    "new_fruit = np.array([[165, 5.5]])\n",
    "\n",
    "k = 3\n",
    "knn = KNeighborsClassifier(n_neighbors=k)\n",
    "knn.fit(X, y)\n",
    "predicted_label = knn.predict(new_fruit)\n",
    "\n",
    "distances = {\n",
    "    'Euclidean': pairwise_distances(new_fruit, X, metric='euclidean')[0],\n",
    "    'Manhattan': pairwise_distances(new_fruit, X, metric='manhattan')[0],\n",
    "    'Minkowski (p=3)': pairwise_distances(new_fruit, X, metric='minkowski', p=3)[0],\n",
    "}\n",
    "\n",
    "print(f\"Predicted label for the new fruit: {predicted_label[0]}\")\n",
    "for metric, dist in distances.items():\n",
    "    print(f\"{metric} distances: {dist}\")"
   ]
  },
  {
   "cell_type": "markdown",
   "id": "0c26df6a",
   "metadata": {},
   "source": [
    "Q2-A"
   ]
  },
  {
   "cell_type": "code",
   "execution_count": 20,
   "id": "f067faf5",
   "metadata": {},
   "outputs": [
    {
     "name": "stdout",
     "output_type": "stream",
     "text": [
      "Entropy of Diagnosis: 1.000\n"
     ]
    }
   ],
   "source": [
    "data = np.array([\n",
    "    [30, 'High', 'High', 'Sick'],\n",
    "    [45, 'Low', 'Normal', 'Healthy'],\n",
    "    [50, 'High', 'High', 'Sick'],\n",
    "    [35, 'Low', 'Normal', 'Healthy'],\n",
    "    [60, 'High', 'High', 'Sick'],\n",
    "    [55, 'Low', 'Normal', 'Healthy'],\n",
    "    [40, 'High', 'High', 'Sick'],\n",
    "    [25, 'Low', 'Normal', 'Healthy'],\n",
    "    [65, 'High', 'High', 'Sick'],\n",
    "    [45, 'Low', 'Normal', 'Healthy']\n",
    "])\n",
    "\n",
    "def entropy(target_column):\n",
    "    labels, counts = np.unique(target_column, return_counts=True)\n",
    "    probabilities = counts / counts.sum()\n",
    "    return -np.sum(probabilities * np.log2(probabilities))\n",
    "\n",
    "diagnosis_column = data[:, 3]\n",
    "initial_entropy = entropy(diagnosis_column)\n",
    "print(f\"Entropy of Diagnosis: {initial_entropy:.3f}\")"
   ]
  },
  {
   "cell_type": "code",
   "execution_count": 21,
   "id": "65f6b3ec",
   "metadata": {},
   "outputs": [
    {
     "name": "stdout",
     "output_type": "stream",
     "text": [
      "Information Gain for feature 0 (Age): 1.000\n",
      "Information Gain for feature 1 (Blood Pressure): 1.000\n",
      "Information Gain for feature 2 (Cholesterol): 1.000\n"
     ]
    }
   ],
   "source": [
    "def information_gain(data, feature_index, target_index):\n",
    "\n",
    "    total_entropy = entropy(data[:, target_index])\n",
    "    \n",
    "    feature_values, feature_counts = np.unique(data[:, feature_index], return_counts=True)\n",
    "    \n",
    "    weighted_entropy = 0\n",
    "    for value, count in zip(feature_values, feature_counts):\n",
    "        subset = data[data[:, feature_index] == value]\n",
    "        weighted_entropy += (count / np.sum(feature_counts)) * entropy(subset[:, target_index])\n",
    "    \n",
    "    return total_entropy - weighted_entropy\n",
    "\n",
    "features = [0, 1, 2]  \n",
    "info_gains = [information_gain(data, f, 3) for f in features]\n",
    "\n",
    "for i, gain in enumerate(info_gains):\n",
    "    print(f\"Information Gain for feature {i} ({['Age', 'Blood Pressure', 'Cholesterol'][i]}): {gain:.3f}\")"
   ]
  },
  {
   "cell_type": "code",
   "execution_count": 22,
   "id": "1ba5fd90",
   "metadata": {},
   "outputs": [
    {
     "name": "stdout",
     "output_type": "stream",
     "text": [
      "Root feature chosen: Age\n"
     ]
    }
   ],
   "source": [
    "root_feature_index = np.argmax(info_gains)\n",
    "root_feature_name = ['Age', 'Blood Pressure', 'Cholesterol'][root_feature_index]\n",
    "print(f\"Root feature chosen: {root_feature_name}\")"
   ]
  },
  {
   "cell_type": "code",
   "execution_count": 23,
   "id": "f1c66a56",
   "metadata": {},
   "outputs": [
    {
     "name": "stdout",
     "output_type": "stream",
     "text": [
      "Prediction for a 50-year-old patient with low BP and normal cholesterol: Sick\n"
     ]
    }
   ],
   "source": [
    "def predict(age, bp, chol):\n",
    "    if bp == 'High':\n",
    "        return 'Sick'  \n",
    "    else:\n",
    "        if age <= 45:\n",
    "            return 'Healthy'\n",
    "        else:\n",
    "            return 'Sick'\n",
    "\n",
    "prediction = predict(50, 'Low', 'Normal')\n",
    "print(f\"Prediction for a 50-year-old patient with low BP and normal cholesterol: {prediction}\")"
   ]
  },
  {
   "cell_type": "markdown",
   "id": "ffe86df8",
   "metadata": {},
   "source": [
    "Q2-B"
   ]
  },
  {
   "cell_type": "code",
   "execution_count": 24,
   "id": "cbeee537",
   "metadata": {},
   "outputs": [
    {
     "name": "stdout",
     "output_type": "stream",
     "text": [
      "Prediction for a 50-year-old patient with low BP and normal cholesterol: Healthy\n"
     ]
    },
    {
     "name": "stderr",
     "output_type": "stream",
     "text": [
      "/usr/lib/python3/dist-packages/sklearn/base.py:493: UserWarning: X does not have valid feature names, but DecisionTreeClassifier was fitted with feature names\n",
      "  warnings.warn(\n"
     ]
    },
    {
     "data": {
      "image/png": "[encoded data removed]",
      "text/plain": [
       "<Figure size 640x480 with 1 Axes>"
      ]
     },
     "metadata": {},
     "output_type": "display_data"
    }
   ],
   "source": [
    "import pandas as pd\n",
    "from sklearn.tree import DecisionTreeClassifier\n",
    "from sklearn import tree\n",
    "\n",
    "data_dict = {\n",
    "    'Age': [30, 45, 50, 35, 60, 55, 40, 25, 65, 45],\n",
    "    'Blood Pressure': ['High', 'Low', 'High', 'Low', 'High', 'Low', 'High', 'Low', 'High', 'Low'],\n",
    "    'Cholesterol': ['High', 'Normal', 'High', 'Normal', 'High', 'Normal', 'High', 'Normal', 'High', 'Normal'],\n",
    "    'Diagnosis': ['Sick', 'Healthy', 'Sick', 'Healthy', 'Sick', 'Healthy', 'Sick', 'Healthy', 'Sick', 'Healthy']\n",
    "}\n",
    "\n",
    "df = pd.DataFrame(data_dict)\n",
    "\n",
    "df['Blood Pressure'] = df['Blood Pressure'].map({'High': 1, 'Low': 0})\n",
    "df['Cholesterol'] = df['Cholesterol'].map({'High': 1, 'Normal': 0})\n",
    "df['Diagnosis'] = df['Diagnosis'].map({'Sick': 1, 'Healthy': 0})\n",
    "\n",
    "X = df[['Age', 'Blood Pressure', 'Cholesterol']]\n",
    "y = df['Diagnosis']\n",
    "\n",
    "clf = DecisionTreeClassifier(criterion='entropy') \n",
    "clf.fit(X, y)\n",
    "\n",
    "tree.plot_tree(clf, feature_names=X.columns, class_names=['Healthy', 'Sick'], filled=True)\n",
    "\n",
    "new_patient = np.array([[50, 0, 0]])  \n",
    "prediction = clf.predict(new_patient)\n",
    "\n",
    "print(f\"Prediction for a 50-year-old patient with low BP and normal cholesterol: {'Healthy' if prediction[0] == 0 else 'Sick'}\")"
   ]
  },
  {
   "cell_type": "code",
   "execution_count": null,
   "id": "64a4af86",
   "metadata": {},
   "outputs": [],
   "source": []
  },
  {
   "cell_type": "code",
   "execution_count": null,
   "id": "81409d0a",
   "metadata": {},
   "outputs": [],
   "source": []
  },
  {
   "cell_type": "code",
   "execution_count": null,
   "id": "81ebd293",
   "metadata": {},
   "outputs": [],
   "source": []
  }
 ],
 "metadata": {
  "kernelspec": {
   "display_name": "Python 3 (ipykernel)",
   "language": "python",
   "name": "python3"
  },
  "language_info": {
   "codemirror_mode": {
    "name": "ipython",
    "version": 3
   },
   "file_extension": ".py",
   "mimetype": "text/x-python",
   "name": "python",
   "nbconvert_exporter": "python",
   "pygments_lexer": "ipython3",
   "version": "3.12.3"
  }
 },
 "nbformat": 4,
 "nbformat_minor": 5
}
