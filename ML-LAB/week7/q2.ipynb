{
 "cells": [
  {
   "cell_type": "code",
   "execution_count": 1,
   "id": "dd3a91a4",
   "metadata": {},
   "outputs": [],
   "source": [
    "import numpy as np\n",
    "import pandas as pd\n",
    "import matplotlib.pyplot as plt"
   ]
  },
  {
   "cell_type": "code",
   "execution_count": 2,
   "id": "a811f10c",
   "metadata": {},
   "outputs": [
    {
     "name": "stdout",
     "output_type": "stream",
     "text": [
      "0.006857142857142858\n",
      "0.02821869488536155\n",
      "Prediction for the test data: yes\n"
     ]
    }
   ],
   "source": [
    "class NaiveBayesClassifier:\n",
    "    def __init__(self):\n",
    "        self.class_probs = {}\n",
    "        self.feature_probs = {}\n",
    "        self.classes = None\n",
    "\n",
    "    def fit(self, X, y):\n",
    "        self.classes = y.unique()\n",
    "        self.class_probs = y.value_counts(normalize=True).to_dict()\n",
    "\n",
    "        self.feature_probs = {}\n",
    "        for feature in X.columns:\n",
    "            self.feature_probs[feature] = {}\n",
    "            for cls in self.classes:\n",
    "                subset = X[y == cls]\n",
    "                feature_prob = subset.groupby(feature).size() / subset.shape[0]\n",
    "                self.feature_probs[feature][cls] = feature_prob.to_dict()\n",
    "\n",
    "    def predict(self, X):\n",
    "        predictions = []\n",
    "        for _, row in X.iterrows():\n",
    "            class_probs = {}\n",
    "            for cls in self.classes:\n",
    "                prob = self.class_probs[cls]\n",
    "                for feature in X.columns:\n",
    "                    value = row[feature]\n",
    "                    feature_prob = self.feature_probs.get(feature, {}).get(cls, {}).get(value, 0)\n",
    "                    prob *= feature_prob\n",
    "                print(prob)\n",
    "                class_probs[cls] = prob\n",
    "            predicted_class = max(class_probs, key=class_probs.get)\n",
    "            predictions.append(predicted_class)\n",
    "        return predictions\n",
    "\n",
    "data = pd.read_csv('Lab7.csv')\n",
    "\n",
    "X = data.drop('buys_com', axis=1)\n",
    "y = data['buys_com']\n",
    "\n",
    "nb_classifier = NaiveBayesClassifier()\n",
    "nb_classifier.fit(X, y)\n",
    "\n",
    "test_data = pd.DataFrame([{\n",
    "    'age': '<=30',\n",
    "    'income': 'medium',\n",
    "    'student': 'yes',\n",
    "    'credit_rating': 'fair'\n",
    "}])\n",
    "\n",
    "predictions = nb_classifier.predict(test_data)\n",
    "print(f'Prediction for the test data: {predictions[0]}')\n"
   ]
  },
  {
   "cell_type": "code",
   "execution_count": null,
   "id": "a8985406",
   "metadata": {},
   "outputs": [],
   "source": []
  }
 ],
 "metadata": {
  "kernelspec": {
   "display_name": "Python 3 (ipykernel)",
   "language": "python",
   "name": "python3"
  },
  "language_info": {
   "codemirror_mode": {
    "name": "ipython",
    "version": 3
   },
   "file_extension": ".py",
   "mimetype": "text/x-python",
   "name": "python",
   "nbconvert_exporter": "python",
   "pygments_lexer": "ipython3",
   "version": "3.12.3"
  }
 },
 "nbformat": 4,
 "nbformat_minor": 5
}
