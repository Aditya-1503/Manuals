{
 "cells": [
  {
   "cell_type": "code",
   "execution_count": 1,
   "id": "d6cd29b1",
   "metadata": {},
   "outputs": [],
   "source": [
    "import pandas as pd\n",
    "import numpy as np"
   ]
  },
  {
   "cell_type": "code",
   "execution_count": 2,
   "id": "8735827c",
   "metadata": {},
   "outputs": [],
   "source": [
    "#ques1"
   ]
  },
  {
   "cell_type": "code",
   "execution_count": 3,
   "id": "a8ce5c35",
   "metadata": {},
   "outputs": [
    {
     "data": {
      "text/plain": [
       "0.6923076923076923"
      ]
     },
     "execution_count": 3,
     "metadata": {},
     "output_type": "execute_result"
    }
   ],
   "source": [
    "hostel = 0.60\n",
    "day_sc = 0.40\n",
    "A_hostel = 0.30\n",
    "A_day = 0.20\n",
    "\n",
    "\n",
    "A = (A_hostel * hostel) + (A_day * day_sc)\n",
    "\n",
    "host_A = (A_hostel * hostel) / A\n",
    "\n",
    "host_A"
   ]
  },
  {
   "cell_type": "code",
   "execution_count": 4,
   "id": "79580f82",
   "metadata": {},
   "outputs": [
    {
     "data": {
      "text/plain": [
       "0.3333333333333333"
      ]
     },
     "execution_count": 4,
     "metadata": {},
     "output_type": "execute_result"
    }
   ],
   "source": [
    "dis = 0.01\n",
    "sens = 0.99\n",
    "FPR = 0.02\n",
    "no_dis = 1 - dis\n",
    "pt = (sens * dis) + (FPR * no_dis)\n",
    "d_pt = (sens * dis) / pt\n",
    "d_pt\n"
   ]
  },
  {
   "cell_type": "code",
   "execution_count": 5,
   "id": "7233501f",
   "metadata": {},
   "outputs": [],
   "source": [
    "#ques2"
   ]
  },
  {
   "cell_type": "code",
   "execution_count": 6,
   "id": "279e94f7",
   "metadata": {},
   "outputs": [],
   "source": [
    "import matplotlib.pyplot as plt\n"
   ]
  },
  {
   "cell_type": "code",
   "execution_count": 7,
   "id": "c0152abf",
   "metadata": {},
   "outputs": [
    {
     "name": "stdout",
     "output_type": "stream",
     "text": [
      "0.006857142857142858\n",
      "0.02821869488536155\n",
      "Prediction for the test data: yes\n"
     ]
    }
   ],
   "source": [
    "class NaiveBayesClassifier:\n",
    "    def __init__(self):\n",
    "        self.class_probs = {}\n",
    "        self.feature_probs = {}\n",
    "        self.classes = None\n",
    "\n",
    "    def fit(self, X, y):\n",
    "        self.classes = y.unique()\n",
    "        self.class_probs = y.value_counts(normalize=True).to_dict()\n",
    "\n",
    "        self.feature_probs = {}\n",
    "        for feature in X.columns:\n",
    "            self.feature_probs[feature] = {}\n",
    "            for cls in self.classes:\n",
    "                subset = X[y == cls]\n",
    "                feature_prob = subset.groupby(feature).size() / subset.shape[0]\n",
    "                self.feature_probs[feature][cls] = feature_prob.to_dict()\n",
    "\n",
    "    def predict(self, X):\n",
    "        predictions = []\n",
    "        for _, row in X.iterrows():\n",
    "            class_probs = {}\n",
    "            for cls in self.classes:\n",
    "                prob = self.class_probs[cls]\n",
    "                for feature in X.columns:\n",
    "                    value = row[feature]\n",
    "                    feature_prob = self.feature_probs.get(feature, {}).get(cls, {}).get(value, 0)\n",
    "                    prob *= feature_prob\n",
    "                print(prob)\n",
    "                class_probs[cls] = prob\n",
    "            predicted_class = max(class_probs, key=class_probs.get)\n",
    "            predictions.append(predicted_class)\n",
    "        return predictions\n",
    "\n",
    "data = pd.read_csv('Lab7.csv')\n",
    "\n",
    "X = data.drop('buys_com', axis=1)\n",
    "y = data['buys_com']\n",
    "\n",
    "nb_classifier = NaiveBayesClassifier()\n",
    "nb_classifier.fit(X, y)\n",
    "\n",
    "test_data = pd.DataFrame([{\n",
    "    'age': '<=30',\n",
    "    'income': 'medium',\n",
    "    'student': 'yes',\n",
    "    'credit_rating': 'fair'\n",
    "}])\n",
    "\n",
    "predictions = nb_classifier.predict(test_data)\n",
    "print(f'Prediction for the test data: {predictions[0]}')\n"
   ]
  },
  {
   "cell_type": "code",
   "execution_count": 8,
   "id": "64336659",
   "metadata": {},
   "outputs": [],
   "source": [
    "#QUES3"
   ]
  },
  {
   "cell_type": "code",
   "execution_count": 9,
   "id": "26a0920d",
   "metadata": {},
   "outputs": [
    {
     "name": "stdout",
     "output_type": "stream",
     "text": [
      "The sentence \"A very close game\" is classified as: 'Sports'\n"
     ]
    }
   ],
   "source": [
    "class NaiveBayesTextClassifier:\n",
    "    def __init__(self):\n",
    "        self.class_probs = {}\n",
    "        self.word_probs = {}\n",
    "        self.vocabulary = set()\n",
    "        self.classes = None\n",
    "\n",
    "    def fit(self, X, y):\n",
    "        self.classes = y.unique()\n",
    "        \n",
    "        # Calculate class probabilities\n",
    "        class_counts = y.value_counts()\n",
    "        total_count = len(y)\n",
    "        self.class_probs = {cls: count / total_count for cls, count in class_counts.items()}\n",
    "        \n",
    "        # Initialize word probabilities\n",
    "        self.word_probs = {cls: {} for cls in self.classes}\n",
    "        self.vocabulary = set()\n",
    "        \n",
    "        for cls in self.classes:\n",
    "            subset = X[y == cls]\n",
    "            words = ' '.join(subset).split()\n",
    "            self.vocabulary.update(words)\n",
    "            word_counts = pd.Series(words).value_counts()\n",
    "            total_words = len(words)\n",
    "            for word in self.vocabulary:\n",
    "                # Applying Laplace smoothing\n",
    "                self.word_probs[cls][word] = (word_counts.get(word, 0) + 1) / (total_words + len(self.vocabulary))\n",
    "\n",
    "    def predict(self, X):\n",
    "        predictions = []\n",
    "        for text in X:\n",
    "            words = text.split()\n",
    "            class_probs = {}\n",
    "            for cls in self.classes:\n",
    "                prob = self.class_probs[cls]\n",
    "                for word in words:\n",
    "                    prob *= self.word_probs[cls].get(word, 1 / (sum(self.word_probs[cls].values()) + len(self.vocabulary)))\n",
    "                class_probs[cls] = prob\n",
    "            predicted_class = max(class_probs, key=class_probs.get)\n",
    "            predictions.append(predicted_class)\n",
    "        return predictions\n",
    "\n",
    "df = pd.read_csv('Lab7_2.csv')\n",
    "\n",
    "# Train the classifier\n",
    "nb_classifier = NaiveBayesTextClassifier()\n",
    "nb_classifier.fit(df['Text'], df['Tag'])\n",
    "\n",
    "# Predict on the entire dataset (since we are not splitting into train/test)\n",
    "y_true = df['Tag']\n",
    "y_pred = nb_classifier.predict(df['Text'])\n",
    "# print(y_pred)\n",
    "\n",
    "\n",
    "# # Predict the class for a new sentence\n",
    "test_sentence = [\"A very close game\"]\n",
    "predicted_tag = nb_classifier.predict(test_sentence)\n",
    "# print(predicted_tag)\n",
    "print(f'The sentence \"A very close game\" is classified as: {predicted_tag[0]}')"
   ]
  },
  {
   "cell_type": "code",
   "execution_count": null,
   "id": "9bc52c82",
   "metadata": {},
   "outputs": [],
   "source": []
  }
 ],
 "metadata": {
  "kernelspec": {
   "display_name": "Python 3 (ipykernel)",
   "language": "python",
   "name": "python3"
  },
  "language_info": {
   "codemirror_mode": {
    "name": "ipython",
    "version": 3
   },
   "file_extension": ".py",
   "mimetype": "text/x-python",
   "name": "python",
   "nbconvert_exporter": "python",
   "pygments_lexer": "ipython3",
   "version": "3.12.3"
  }
 },
 "nbformat": 4,
 "nbformat_minor": 5
}
