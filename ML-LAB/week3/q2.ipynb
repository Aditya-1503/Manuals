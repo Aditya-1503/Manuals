{
 "cells": [
  {
   "cell_type": "code",
   "execution_count": 39,
   "id": "e27ba04f",
   "metadata": {},
   "outputs": [],
   "source": [
    "import pandas as pd\n",
    "import numpy as np\n",
    "import matplotlib.pyplot as plt"
   ]
  },
  {
   "cell_type": "code",
   "execution_count": 46,
   "id": "64499a15",
   "metadata": {},
   "outputs": [
    {
     "data": {
      "text/plain": [
       "array([ 4, 20, 10, 13, 14, 19, 20,  3,  1,  9])"
      ]
     },
     "execution_count": 46,
     "metadata": {},
     "output_type": "execute_result"
    }
   ],
   "source": [
    "score = np.array([4, 20, 10, 13,14,19, 20, 3, 1, 9])\n",
    "score"
   ]
  },
  {
   "cell_type": "code",
   "execution_count": 47,
   "id": "712b2603",
   "metadata": {},
   "outputs": [
    {
     "data": {
      "text/plain": [
       "array([ 1,  9,  3,  4,  5, 10, 10,  1,  0,  4])"
      ]
     },
     "execution_count": 47,
     "metadata": {},
     "output_type": "execute_result"
    }
   ],
   "source": [
    "time = np.array([1, 9, 3, 4, 5, 10, 10, 1, 0, 4])\n",
    "time"
   ]
  },
  {
   "cell_type": "code",
   "execution_count": 48,
   "id": "ae25a69a",
   "metadata": {},
   "outputs": [
    {
     "data": {
      "text/html": [
       "<div>\n",
       "<style scoped>\n",
       "    .dataframe tbody tr th:only-of-type {\n",
       "        vertical-align: middle;\n",
       "    }\n",
       "\n",
       "    .dataframe tbody tr th {\n",
       "        vertical-align: top;\n",
       "    }\n",
       "\n",
       "    .dataframe thead th {\n",
       "        text-align: right;\n",
       "    }\n",
       "</style>\n",
       "<table border=\"1\" class=\"dataframe\">\n",
       "  <thead>\n",
       "    <tr style=\"text-align: right;\">\n",
       "      <th></th>\n",
       "      <th>Study Time</th>\n",
       "      <th>Marks</th>\n",
       "    </tr>\n",
       "  </thead>\n",
       "  <tbody>\n",
       "    <tr>\n",
       "      <th>0</th>\n",
       "      <td>1</td>\n",
       "      <td>4</td>\n",
       "    </tr>\n",
       "    <tr>\n",
       "      <th>1</th>\n",
       "      <td>9</td>\n",
       "      <td>20</td>\n",
       "    </tr>\n",
       "    <tr>\n",
       "      <th>2</th>\n",
       "      <td>3</td>\n",
       "      <td>10</td>\n",
       "    </tr>\n",
       "    <tr>\n",
       "      <th>3</th>\n",
       "      <td>4</td>\n",
       "      <td>13</td>\n",
       "    </tr>\n",
       "    <tr>\n",
       "      <th>4</th>\n",
       "      <td>5</td>\n",
       "      <td>14</td>\n",
       "    </tr>\n",
       "    <tr>\n",
       "      <th>5</th>\n",
       "      <td>10</td>\n",
       "      <td>19</td>\n",
       "    </tr>\n",
       "    <tr>\n",
       "      <th>6</th>\n",
       "      <td>10</td>\n",
       "      <td>20</td>\n",
       "    </tr>\n",
       "    <tr>\n",
       "      <th>7</th>\n",
       "      <td>1</td>\n",
       "      <td>3</td>\n",
       "    </tr>\n",
       "    <tr>\n",
       "      <th>8</th>\n",
       "      <td>0</td>\n",
       "      <td>1</td>\n",
       "    </tr>\n",
       "    <tr>\n",
       "      <th>9</th>\n",
       "      <td>4</td>\n",
       "      <td>9</td>\n",
       "    </tr>\n",
       "  </tbody>\n",
       "</table>\n",
       "</div>"
      ],
      "text/plain": [
       "   Study Time  Marks\n",
       "0           1      4\n",
       "1           9     20\n",
       "2           3     10\n",
       "3           4     13\n",
       "4           5     14\n",
       "5          10     19\n",
       "6          10     20\n",
       "7           1      3\n",
       "8           0      1\n",
       "9           4      9"
      ]
     },
     "execution_count": 48,
     "metadata": {},
     "output_type": "execute_result"
    }
   ],
   "source": [
    "df = pd.DataFrame({'Study Time':time, 'Marks':score})\n",
    "df "
   ]
  },
  {
   "cell_type": "code",
   "execution_count": 49,
   "id": "2e87f20c",
   "metadata": {},
   "outputs": [
    {
     "data": {
      "text/plain": [
       "<matplotlib.collections.PathCollection at 0x7a5be30802f0>"
      ]
     },
     "execution_count": 49,
     "metadata": {},
     "output_type": "execute_result"
    },
    {
     "data": {
      "image/png": "[encoded data removed]",
      "text/plain": [
       "<Figure size 640x480 with 1 Axes>"
      ]
     },
     "metadata": {},
     "output_type": "display_data"
    }
   ],
   "source": [
    "plt.scatter(df['Study Time'], df['Marks'])"
   ]
  },
  {
   "cell_type": "code",
   "execution_count": 50,
   "id": "1bae2ce1",
   "metadata": {},
   "outputs": [],
   "source": [
    "class LinearRegression:\n",
    "    def __init__(self):\n",
    "        self.m = 0\n",
    "        self.b = 0\n",
    "    def fit(self, X, y):\n",
    "        n = len(X)\n",
    "        \n",
    "        X_mean = np.mean(X)\n",
    "        y_mean = np.mean(y)\n",
    "        \n",
    "        numerator = np.sum((X-X_mean)*(y-y_mean))\n",
    "        denominator = np.sum((X-X_mean)**2)\n",
    "        self.m = numerator / denominator\n",
    "        self.b = y_mean - (self.m * X_mean)\n",
    "        self.residuals = np.sum(abs(y-self.predict(X)))\n",
    "        \n",
    "        \n",
    "    def predict(self, X):\n",
    "        return self.m * X + self.b\n"
   ]
  },
  {
   "cell_type": "code",
   "execution_count": 51,
   "id": "ee00021f",
   "metadata": {},
   "outputs": [
    {
     "data": {
      "text/plain": [
       "15.565964090554251"
      ]
     },
     "execution_count": 51,
     "metadata": {},
     "output_type": "execute_result"
    }
   ],
   "source": [
    "mod = LinearRegression()\n",
    "mod.fit(df['Study Time'], df['Marks'])\n",
    "mod.residuals"
   ]
  },
  {
   "cell_type": "code",
   "execution_count": 52,
   "id": "49d6baaf",
   "metadata": {},
   "outputs": [
    {
     "data": {
      "text/plain": [
       "<matplotlib.collections.PathCollection at 0x7a5be3060320>"
      ]
     },
     "execution_count": 52,
     "metadata": {},
     "output_type": "execute_result"
    },
    {
     "data": {
      "image/png": "[encoded data removed]",
      "text/plain": [
       "<Figure size 640x480 with 1 Axes>"
      ]
     },
     "metadata": {},
     "output_type": "display_data"
    }
   ],
   "source": [
    "x = np.linspace(0, 12)\n",
    "plt.plot(x, mod.m*x + mod.b)\n",
    "plt.scatter(df['Study Time'], df['Marks'])"
   ]
  },
  {
   "cell_type": "code",
   "execution_count": 57,
   "id": "9fe813b3",
   "metadata": {},
   "outputs": [
    {
     "name": "stdout",
     "output_type": "stream",
     "text": [
      "B0 = 2.718188914910227 B1 = 1.8259172521467602\n"
     ]
    }
   ],
   "source": [
    "print(\"B0 =\",mod.b, \"B1 =\", mod.m)"
   ]
  },
  {
   "cell_type": "code",
   "execution_count": 65,
   "id": "d0ba4cc8",
   "metadata": {},
   "outputs": [],
   "source": [
    "Y = mod.predict(df['Study Time'])"
   ]
  },
  {
   "cell_type": "code",
   "execution_count": 66,
   "id": "385749d1",
   "metadata": {},
   "outputs": [
    {
     "data": {
      "text/plain": [
       "0     4.544106\n",
       "1    19.151444\n",
       "2     8.195941\n",
       "3    10.021858\n",
       "4    11.847775\n",
       "5    20.977361\n",
       "6    20.977361\n",
       "7     4.544106\n",
       "8     2.718189\n",
       "9    10.021858\n",
       "Name: Study Time, dtype: float64"
      ]
     },
     "execution_count": 66,
     "metadata": {},
     "output_type": "execute_result"
    }
   ],
   "source": [
    "Y"
   ]
  },
  {
   "cell_type": "code",
   "execution_count": null,
   "id": "1ece6618",
   "metadata": {},
   "outputs": [],
   "source": []
  }
 ],
 "metadata": {
  "kernelspec": {
   "display_name": "Python 3 (ipykernel)",
   "language": "python",
   "name": "python3"
  },
  "language_info": {
   "codemirror_mode": {
    "name": "ipython",
    "version": 3
   },
   "file_extension": ".py",
   "mimetype": "text/x-python",
   "name": "python",
   "nbconvert_exporter": "python",
   "pygments_lexer": "ipython3",
   "version": "3.12.3"
  }
 },
 "nbformat": 4,
 "nbformat_minor": 5
}
